{
 "cells": [
  {
   "cell_type": "code",
   "execution_count": null,
   "id": "b2f69fc1",
   "metadata": {},
   "outputs": [],
   "source": [
    "import numpy as np\n",
    "import pandas as pd\n",
    "from sklearn import datasets as ds"
   ]
  },
  {
   "cell_type": "code",
   "execution_count": null,
   "id": "3bd96602",
   "metadata": {},
   "outputs": [],
   "source": [
    "data = ds.load_iris()\n",
    "df = pd.DataFrame(data=data['data'], columns=data['feature_names'])"
   ]
  },
  {
   "cell_type": "code",
   "execution_count": null,
   "id": "5691968a",
   "metadata": {},
   "outputs": [],
   "source": [
    "cov = np.cov(df['sepal length (cm)'],df['petal width (cm)'])\n",
    "cor = np.corrcoef(df['sepal length (cm)'],df['petal width (cm)'])"
   ]
  },
  {
   "cell_type": "code",
   "execution_count": null,
   "id": "b297491e",
   "metadata": {},
   "outputs": [],
   "source": [
    "print(\"Covariance between sepal length and petal width: \",round(cov[0][1],4))\n",
    "print(\"Correlation between sepal length and petal width: \",round(cor[0][1],4))"
   ]
  }
 ],
 "metadata": {
  "kernelspec": {
   "display_name": "Python 3 (ipykernel)",
   "language": "python",
   "name": "python3"
  },
  "language_info": {
   "codemirror_mode": {
    "name": "ipython",
    "version": 3
   },
   "file_extension": ".py",
   "mimetype": "text/x-python",
   "name": "python",
   "nbconvert_exporter": "python",
   "pygments_lexer": "ipython3",
   "version": "3.9.12"
  }
 },
 "nbformat": 4,
 "nbformat_minor": 5
}
