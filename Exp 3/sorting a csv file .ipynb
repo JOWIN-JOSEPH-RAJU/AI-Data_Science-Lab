{
  "nbformat": 4,
  "nbformat_minor": 0,
  "metadata": {
    "colab": {
      "provenance": [],
      "authorship_tag": "ABX9TyPDZtJfiB9nxurZjyaSJbDs",
      "include_colab_link": true
    },
    "kernelspec": {
      "name": "python3",
      "display_name": "Python 3"
    },
    "language_info": {
      "name": "python"
    }
  },
  "cells": [
    {
      "cell_type": "markdown",
      "metadata": {
        "id": "view-in-github",
        "colab_type": "text"
      },
      "source": [
        "<a href=\"https://colab.research.google.com/github/JOWIN-JOSEPH-RAJU/AI-Data_Science-Lab/blob/main/Exp%203/sorting%20a%20csv%20file%20.ipynb\" target=\"_parent\"><img src=\"https://colab.research.google.com/assets/colab-badge.svg\" alt=\"Open In Colab\"/></a>"
      ]
    },
    {
      "cell_type": "markdown",
      "source": [
        "# **VAIVA** **QUESTIONS**"
      ],
      "metadata": {
        "id": "0gFcVRjxxZOV"
      }
    },
    {
      "cell_type": "markdown",
      "source": [
        "* what are pandas in python\n",
        "* what is a csv file\n",
        "\n",
        "* what kind of datas are stored in csv files\n",
        "*  how to crreate a csv file\n",
        "* how to read a csv file\n",
        "* what is a data frame in pandas\n",
        "* how to sort data by coloum in a csv file    with  python pandas\n",
        "* how to sort a csv file in assending and dessinding order\n",
        "\n",
        "* how to sort multiple coloum in pandas using data frame\n"
      ],
      "metadata": {
        "id": "bg3bcsgJGZ-i"
      }
    },
    {
      "cell_type": "markdown",
      "source": [
        "# what are pandas in python\n",
        "\n",
        "\n",
        "---\n",
        "\n",
        "\n",
        "* Pandas is a Python library used for working with data sets.\n",
        "\n",
        "*Pandas allows us to analyze big data and make conclusions based on statistical theories.\n",
        "\n",
        "*Pandas can clean messy data sets, and make them readable and relevant\n",
        "\n"
      ],
      "metadata": {
        "id": "8ZILra2nyd36"
      }
    },
    {
      "cell_type": "markdown",
      "source": [
        "# what is a csv file\n",
        "\n",
        "---\n",
        "\n",
        "\n",
        "\n",
        "\n",
        "\n",
        "*   Comma-separated values\n",
        "*  is a text file format that uses commas to separate values\n",
        "* each line of the file typically represents one data record.\n",
        "* Each record consists of the same number of fields,\n",
        "\n",
        "\n",
        "\n",
        "\n"
      ],
      "metadata": {
        "id": "V0ON4w7v0K72"
      }
    },
    {
      "cell_type": "markdown",
      "source": [
        "# what kind of data is stored in csv files\n",
        "\n",
        "---\n",
        "\n",
        "\n",
        "\n",
        "* A CSV file stores tabular data (numbers and text) in plain text, where each line of the file typically represents one data record."
      ],
      "metadata": {
        "id": "LSuEWWWV1ixo"
      }
    },
    {
      "cell_type": "markdown",
      "source": [
        "# How to crreate a csv file\n",
        "\n",
        "---\n",
        "\n",
        "\n",
        "\n",
        "* Open the CSV file in writing (w mode) with the help of open() function\n",
        "* Create a CSV writer object by calling the writer() function of the csv module\n",
        "\n",
        "* Write data to CSV file by calling either the writerow() or writerows() method of the CSV writer object\n",
        "* Finally, close the CSV file\n",
        "\n",
        "---\n",
        "\n",
        "\n",
        "\n",
        "1. CSV Module Functions in Python\n",
        "\n",
        "* syntax :import csv\n",
        "* csv.writer - This function writes the data to a CSV file.\n",
        "* csv.reader - This function reads the data from a CSV file.\n",
        "\n",
        "2.How to Open a CSV File in Python?\n",
        " * using csv module\n",
        "  \n",
        "  import csv\n",
        "\n",
        "with open(\"students.csv\", 'r') as file:\n",
        "  csvreader = csv.reader(file)\n",
        "  for row in csvreader:\n",
        "    print(row)\n",
        "\n",
        "* using pandas\n",
        "import pandas as pd\n",
        "data = pd.read_csv(\"students.csv\")\n",
        "data\n",
        "\n",
        "website-link scaler Topic:https://www.scaler.com/topics/how-to-create-a-csv-file-in-python/\n"
      ],
      "metadata": {
        "id": "IDslokry1v1Q"
      }
    },
    {
      "cell_type": "code",
      "source": [
        "# opening a csv file\n",
        "import csv\n",
        "\n",
        "with open(\"students.csv\", 'r') as file:\n",
        "  csvreader = csv.reader(file)\n",
        "  for row in csvreader:\n",
        "    print(row)"
      ],
      "metadata": {
        "id": "-g4k93lv3UCQ"
      },
      "execution_count": null,
      "outputs": []
    },
    {
      "cell_type": "markdown",
      "source": [
        "# what is a data frame in pandas\n",
        "\n",
        "* A Pandas DataFrame is a 2 dimensional data structure, like a 2 dimensional array, or a table with rows and columns.\n"
      ],
      "metadata": {
        "id": "zt4XCkrU5O05"
      }
    },
    {
      "cell_type": "code",
      "source": [
        "import pandas as pd\n",
        "data ={\n",
        "       \"Roll NO\": [37,38,39,40,41] ,\n",
        "       \"names\": ['jowin','joswin','juby','joseph','raju'],\n",
        "       \"city\": ['thodupuzha','palai','choondachery','alappuzha','kollam']\n",
        "}\n",
        "\n",
        "\n",
        "df=pd.DataFrame(data)\n",
        "print(df)"
      ],
      "metadata": {
        "colab": {
          "base_uri": "https://localhost:8080/"
        },
        "id": "1_11zUyw52xA",
        "outputId": "7b82b236-85fb-4e51-93b6-1c197d3148a1"
      },
      "execution_count": 9,
      "outputs": [
        {
          "output_type": "stream",
          "name": "stdout",
          "text": [
            "{'Roll NO': [37, 38, 39, 40, 41], 'names': ['jowin', 'joswin', 'juby', 'joseph', 'raju'], 'city': ['thodupuzha', 'palai', 'choondachery', 'alappuzha', 'kollam']}\n",
            "   Roll NO   names          city\n",
            "0       37   jowin    thodupuzha\n",
            "1       38  joswin         palai\n",
            "2       39    juby  choondachery\n",
            "3       40  joseph     alappuzha\n",
            "4       41    raju        kollam\n"
          ]
        }
      ]
    },
    {
      "cell_type": "markdown",
      "source": [
        "# Converting Dataframe into a csv file  "
      ],
      "metadata": {
        "id": "DZaklzoG9nre"
      }
    },
    {
      "cell_type": "code",
      "source": [
        "df.to_csv('csv1.csv',index=False)"
      ],
      "metadata": {
        "id": "ihUKCb_g9wen"
      },
      "execution_count": 11,
      "outputs": []
    },
    {
      "cell_type": "markdown",
      "source": [
        "# How to sort data by coloum in a csv file with python pandas\n",
        "\n"
      ],
      "metadata": {
        "id": "VOb7suGA8Eqg"
      }
    },
    {
      "cell_type": "code",
      "source": [
        "import pandas as pd\n",
        "\n",
        "loaded_frame= pd.read_csv('csv1.csv')\n",
        "\n",
        "s_df=loaded_frame.sort_values('names')\n",
        "print(s_df)\n",
        "\n",
        "s_df.to_csv('sorted.csv')"
      ],
      "metadata": {
        "colab": {
          "base_uri": "https://localhost:8080/"
        },
        "id": "SacZm91j872s",
        "outputId": "024a45a9-d562-4176-b848-e9abc1bbbf97"
      },
      "execution_count": 12,
      "outputs": [
        {
          "output_type": "stream",
          "name": "stdout",
          "text": [
            "   Roll NO   names          city\n",
            "3       40  joseph     alappuzha\n",
            "1       38  joswin         palai\n",
            "0       37   jowin    thodupuzha\n",
            "2       39    juby  choondachery\n",
            "4       41    raju        kollam\n"
          ]
        }
      ]
    },
    {
      "cell_type": "markdown",
      "source": [
        "# How to sort a csv file in ascending order\n",
        "\n",
        "**bold text**"
      ],
      "metadata": {
        "id": "GUX1SGcRAZ-P"
      }
    },
    {
      "cell_type": "code",
      "source": [
        "import pandas as pd\n",
        "loaded_frame=pd.read_csv('csv1.csv')\n",
        "print(loaded_frame)\n",
        "print('.........AFTER SORTING............')\n",
        "ascending=loaded_frame.sort_values('names',ascending=True)\n",
        "print(ascending)"
      ],
      "metadata": {
        "colab": {
          "base_uri": "https://localhost:8080/"
        },
        "id": "k6zaf9VSAlh2",
        "outputId": "59905bfa-75ed-4b35-b5ba-c34047e5de75"
      },
      "execution_count": 28,
      "outputs": [
        {
          "output_type": "stream",
          "name": "stdout",
          "text": [
            "   Roll NO   names          city\n",
            "0       37   jowin    thodupuzha\n",
            "1       38  joswin         palai\n",
            "2       39    juby  choondachery\n",
            "3       40  joseph     alappuzha\n",
            "4       41    raju        kollam\n",
            ".........AFTER SORTING............\n",
            "   Roll NO   names          city\n",
            "3       40  joseph     alappuzha\n",
            "1       38  joswin         palai\n",
            "0       37   jowin    thodupuzha\n",
            "2       39    juby  choondachery\n",
            "4       41    raju        kollam\n"
          ]
        }
      ]
    },
    {
      "cell_type": "markdown",
      "source": [
        "# how to sort multiple coloum in pandas using data frame"
      ],
      "metadata": {
        "id": "fJUbovraE75D"
      }
    },
    {
      "cell_type": "code",
      "source": [
        "multi_colm=loaded_frame.sort_values(by=['ROLL NO','names'],ascending[True,False],na_position='first')\n",
        "print(multi_colm)\n"
      ],
      "metadata": {
        "colab": {
          "base_uri": "https://localhost:8080/",
          "height": 142
        },
        "id": "DrfUqDYcFIw7",
        "outputId": "ce53c4e4-7eec-45d9-e61e-13683320241a"
      },
      "execution_count": 29,
      "outputs": [
        {
          "output_type": "error",
          "ename": "SyntaxError",
          "evalue": "ignored",
          "traceback": [
            "\u001b[0;36m  File \u001b[0;32m\"<ipython-input-29-fffb64c2f561>\"\u001b[0;36m, line \u001b[0;32m1\u001b[0m\n\u001b[0;31m    multi_colm=loaded_frame.sort_values(by=['ROLL NO','names'],ascending[True,False],na_position='first')\u001b[0m\n\u001b[0m                                                                                                        ^\u001b[0m\n\u001b[0;31mSyntaxError\u001b[0m\u001b[0;31m:\u001b[0m positional argument follows keyword argument\n"
          ]
        }
      ]
    },
    {
      "cell_type": "markdown",
      "source": [
        "# Program\n",
        "\n",
        "---\n",
        "write a program to create and open a csv file and sort the content\n",
        "with respect to 1 coloum using Python\n"
      ],
      "metadata": {
        "id": "ot-FEDOfGYA_"
      }
    },
    {
      "cell_type": "code",
      "source": [
        "import pandas as pd\n",
        "\n",
        "#creating a dictonary\n",
        "student_dic={\n",
        "    'Roll_no':[3,5,2,4,1],\n",
        "    'name':['jowin','joseph','raju','spamx','joswin'],\n",
        "    'age':[10,12,40,55,21]\n",
        "}\n",
        "#converting dict to dataframe\n",
        "student_frame=pd.DataFrame(student_dic)\n",
        "\n",
        "#converting a frame int a csv file\n",
        "student_frame.to_csv('student.csv',index=False)\n",
        "print(student_frame)\n",
        "\n",
        "\n",
        "#..........reading a csv file...............................\n",
        "read_file=pd.read_csv('student.csv')\n",
        "# sorting the csv file\n",
        "sorted=read_file.sort_values('Roll_no',ascending=True)\n",
        "sorted1=read_file.sort_values('Roll_no',ascending=False)\n",
        "print('\\n')\n",
        "print('.........AFTER SORTING IN ASCENDING.........')\n",
        "print(sorted)\n",
        "print('\\n')\n",
        "print('.........AFTER SORTING IN DESCENDING.........')\n",
        "print(sorted1)"
      ],
      "metadata": {
        "colab": {
          "base_uri": "https://localhost:8080/"
        },
        "id": "T5udRss6HWZl",
        "outputId": "3ec71610-7ff8-4ea0-e473-6dc2b7bf0838"
      },
      "execution_count": 58,
      "outputs": [
        {
          "output_type": "stream",
          "name": "stdout",
          "text": [
            "   Roll_no    name  age\n",
            "0        3   jowin   10\n",
            "1        5  joseph   12\n",
            "2        2    raju   40\n",
            "3        4   spamx   55\n",
            "4        1  joswin   21\n",
            "\n",
            "\n",
            ".........AFTER SORTING IN ASCENDING.........\n",
            "   Roll_no    name  age\n",
            "4        1  joswin   21\n",
            "2        2    raju   40\n",
            "0        3   jowin   10\n",
            "3        4   spamx   55\n",
            "1        5  joseph   12\n",
            "\n",
            "\n",
            ".........AFTER SORTING IN DESCENDING.........\n",
            "   Roll_no    name  age\n",
            "1        5  joseph   12\n",
            "3        4   spamx   55\n",
            "0        3   jowin   10\n",
            "2        2    raju   40\n",
            "4        1  joswin   21\n"
          ]
        }
      ]
    }
  ]
}