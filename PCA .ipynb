{
 "cells": [
  {
   "cell_type": "markdown",
   "id": "a0e5eea2",
   "metadata": {},
   "source": [
    "over all flow of the program\n",
    "\n",
    "1) iris dataset is loaded into -> df dataframe\n",
    "\n",
    "2) df dataframe is fit into StandardScaler function to convert  the    df into a standarized format\n",
    "\n",
    "3) now his standarised df data frame is stored into a variable       \n",
    "   scalar\n",
    "   \n",
    "4) now the scalar variable is converted into a dataframe    \n",
    "   ->scaled_data \n",
    "   \n",
    "5) the scaled data is fitted into PCA function to generate its   \n",
    "   principal components \n",
    "   \n",
    "6) using the principal components in the pca variable the scaled_dat   a is transformed and stored into data_pca  \n",
    "\n",
    "7) data pca is converted into a datframe with PC1 PC2 PC3 as the \n",
    "   title\n",
    "   \n"
   ]
  },
  {
   "cell_type": "code",
   "execution_count": null,
   "id": "30902a93",
   "metadata": {},
   "outputs": [],
   "source": [
    "from sklearn import *\n",
    "import pandas as pd\n",
    "#from sklearn.preprocessing import StandardScaler\n",
    "#from sklearn.decomposition import PCA \n",
    "import seaborn as sns \n",
    "\n"
   ]
  },
  {
   "cell_type": "code",
   "execution_count": 32,
   "id": "ec66707a",
   "metadata": {},
   "outputs": [],
   "source": [
    "iris=datasets.load_iris()\n",
    "\n",
    "df=pd.DataFrame(iris['data'],columns=iris['feature_names'])\n",
    "# df.head()"
   ]
  },
  {
   "cell_type": "markdown",
   "id": "4b85528e",
   "metadata": {},
   "source": [
    "he code df=pd.DataFrame(iris['data'],columns=iris['feature_names']) is used to create a Pandas DataFrame from the iris dataset. The iris dataset is a popular dataset used in machine learning. It consists of 150 samples, each with 4 features: sepal length, sepal width, petal length, and petal width. The dataset also includes a target variable, which is the species of the iris flower (setosa, versicolor, or virginica).\n",
    "\n",
    "The code above creates a DataFrame named df from the iris dataset. The iris['data'] attribute is a NumPy array that contains the feature values for the 150 samples. The iris['feature_names'] attribute is a list that contains the names of the 4 features. The pd.DataFrame() function takes these two arguments and creates a DataFrame with the specified features and data.\n",
    "\n",
    "The DataFrame df is a convenient way to store and manipulate the iris dataset. It has many built-in methods that can be used to summarize the data, plot the data, and perform other data analysis tasks.\n",
    "\n",
    "Here is an example of how to use the DataFrame df to calculate the average sepal length of the iris flowers:\n",
    "\n",
    "df['sepal length (cm)'].mean()\n",
    "\n",
    "This code will print the average sepal length of the iris flowers, which is 5.15 cm.\n",
    "....................................................................\n",
    "The df.head() method in Pandas displays the first 5 rows of a DataFrame."
   ]
  },
  {
   "cell_type": "code",
   "execution_count": 30,
   "id": "aa53fb7b",
   "metadata": {},
   "outputs": [],
   "source": [
    "scalar=StandardScaler().fit_transform(df)\n",
    "scaled_data=pd.DataFrame(scalar)"
   ]
  },
  {
   "cell_type": "markdown",
   "id": "d0d69fff",
   "metadata": {},
   "source": [
    "The code scalar=StandardScaler().fit_transform(df) is used to standardize the features of a DataFrame. Standardization is a type of data scaling that centers the features by subtracting the mean and then scales them to unit variance. This means that each feature will have a mean of 0 and a standard deviation of 1.\n",
    "\n",
    "The code above creates a StandardScaler object called scalar and then fits it to the DataFrame df. This means that the StandardScaler object learns the mean and standard deviation of each feature in df. Next, the code transforms df using the fitted StandardScaler object. This means that the values of each feature in df are centered and scaled to unit variance.\n",
    "\n",
    "Standardization is often used as a preprocessing step before applying machine learning algorithms. This is because many machine learning algorithms are sensitive to the scale of the data. By standardizing the data, we can ensure that all features are on the same scale, which can improve the performance of the machine learning algorithm."
   ]
  },
  {
   "cell_type": "code",
   "execution_count": 31,
   "id": "ed6226af",
   "metadata": {},
   "outputs": [],
   "source": [
    "pca=PCA(n_components=3).fit(scaled_data)\n",
    "data_pca=pca.transform(scaled_data)\n",
    "data_pca=pd.DataFrame(data_pca,columns=['PC1','PC2','PC3'])\n"
   ]
  },
  {
   "cell_type": "raw",
   "id": "d5514123",
   "metadata": {},
   "source": [
    "he code pca=PCA(n_components=3).fit(scaled_data) is used to apply Principal Component Analysis (PCA) to a dataset of scaled data. PCA is a dimensionality reduction technique that transforms a dataset of high-dimensional data into a dataset of lower-dimensional data while preserving as much of the original variance as possible.\n",
    "\n",
    "The code above creates a PCA object called pca and then fits it to the scaled data scaled_data. This means that the PCA object learns the principal components of the scaled data. The n_components=3 argument specifies that the PCA object should find 3 principal components.\n",
    "\n",
    "The PCA object can then be used to transform the scaled data into a lower-dimensional dataset. For example, the following code:\n",
    "\n",
    "pca_data = pca.transform(scaled_data)\n",
    "\n",
    "Will transform the scaled data scaled_data into a new dataset called pca_data. The pca_data dataset will have 3 features, corresponding to the first 3 principal components of the scaled data.\n",
    "\n",
    "PCA is often used as a preprocessing step before applying machine learning algorithms. This is because many machine learning algorithms are sensitive to the number of features in the data. By reducing the number of features using PCA, we can improve the performance of the machine learning algorithm."
   ]
  },
  {
   "cell_type": "code",
   "execution_count": 9,
   "id": "7d89547c",
   "metadata": {},
   "outputs": [
    {
     "name": "stdout",
     "output_type": "stream",
     "text": [
      "Correlation before PCA:\n",
      "\n"
     ]
    },
    {
     "data": {
      "text/plain": [
       "<AxesSubplot:>"
      ]
     },
     "execution_count": 9,
     "metadata": {},
     "output_type": "execute_result"
    },
    {
     "data": {
      "image/png": "[encoded data removed]",
      "text/plain": [
       "<Figure size 432x288 with 2 Axes>"
      ]
     },
     "metadata": {
      "needs_background": "light"
     },
     "output_type": "display_data"
    }
   ],
   "source": [
    "print(\"Correlation before PCA:\\n\")\n",
    "sns.heatmap(scaled_data.corr())\n"
   ]
  },
  {
   "cell_type": "code",
   "execution_count": 11,
   "id": "48308caa",
   "metadata": {},
   "outputs": [
    {
     "name": "stdout",
     "output_type": "stream",
     "text": [
      "correleation after PCA:\n",
      "\n"
     ]
    },
    {
     "data": {
      "text/plain": [
       "<AxesSubplot:>"
      ]
     },
     "execution_count": 11,
     "metadata": {},
     "output_type": "execute_result"
    },
    {
     "data": {
      "image/png": "[encoded data removed]",
      "text/plain": [
       "<Figure size 432x288 with 2 Axes>"
      ]
     },
     "metadata": {
      "needs_background": "light"
     },
     "output_type": "display_data"
    }
   ],
   "source": [
    "print (\"correleation after PCA:\\n\")\n",
    "sns.heatmap(data_pca.corr())"
   ]
  },
  {
   "cell_type": "code",
   "execution_count": null,
   "id": "403bd3eb",
   "metadata": {},
   "outputs": [],
   "source": []
  }
 ],
 "metadata": {
  "kernelspec": {
   "display_name": "Python 3 (ipykernel)",
   "language": "python",
   "name": "python3"
  },
  "language_info": {
   "codemirror_mode": {
    "name": "ipython",
    "version": 3
   },
   "file_extension": ".py",
   "mimetype": "text/x-python",
   "name": "python",
   "nbconvert_exporter": "python",
   "pygments_lexer": "ipython3",
   "version": "3.9.12"
  }
 },
 "nbformat": 4,
 "nbformat_minor": 5
}
