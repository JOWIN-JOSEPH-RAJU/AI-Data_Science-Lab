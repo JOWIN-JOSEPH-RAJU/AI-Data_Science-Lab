{
  "nbformat": 4,
  "nbformat_minor": 0,
  "metadata": {
    "colab": {
      "provenance": [],
      "authorship_tag": "ABX9TyPS6QLag7Y+X/dLkyv3WlCB",
      "include_colab_link": true
    },
    "kernelspec": {
      "name": "python3",
      "display_name": "Python 3"
    },
    "language_info": {
      "name": "python"
    }
  },
  "cells": [
    {
      "cell_type": "markdown",
      "metadata": {
        "id": "view-in-github",
        "colab_type": "text"
      },
      "source": [
        "<a href=\"https://colab.research.google.com/github/JOWIN-JOSEPH-RAJU/AI-Data_Science-Lab/blob/main/Exp%203/sorting%20a%20csv%20file%20%20.ipynb\" target=\"_parent\"><img src=\"https://colab.research.google.com/assets/colab-badge.svg\" alt=\"Open In Colab\"/></a>"
      ]
    },
    {
      "cell_type": "code",
      "execution_count": null,
      "metadata": {
        "id": "zxQI5vtBxMju"
      },
      "outputs": [],
      "source": []
    },
    {
      "cell_type": "markdown",
      "source": [
        "* what are pandas in python\n",
        "* what is a csv file\n",
        "\n",
        "* what kind of datas are stored in csv files\n",
        "*  how to crreate a csv file\n",
        "* how to read a csv file\n",
        "* what is a data frame in pandas\n",
        "* how to sort data by coloum in a csv file    with  python pandas\n",
        "* how to sort a csv file in assending and dessinding order\n",
        "\n",
        "* how to sort multiple coloum in pandas using data frame\n"
      ],
      "metadata": {
        "id": "0gFcVRjxxZOV"
      }
    }
  ]
}