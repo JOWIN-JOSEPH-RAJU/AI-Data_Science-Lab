{
 "cells": [
  {
   "cell_type": "code",
   "execution_count": 1,
   "id": "9971a8cc",
   "metadata": {},
   "outputs": [],
   "source": [
    "import pandas as pd\n",
    "from sklearn.svm import SVC as svc\n",
    "from sklearn.model_selection import train_test_split as tts\n"
   ]
  },
  {
   "cell_type": "code",
   "execution_count": 16,
   "id": "93a1e237",
   "metadata": {},
   "outputs": [],
   "source": [
    "data = pd.read_csv(r\"/home/student/21AD038/heart-data.csv\")\n",
    "data['class'].replace(['absent','present'],[0,1],inplace=True)\n",
    "x = data.drop('class',axis=1)\n",
    "\n",
    "y = data['class']\n",
    "\n"
   ]
  },
  {
   "cell_type": "markdown",
   "id": "1ac5fdb3",
   "metadata": {},
   "source": [
    "data['class'].replace(['absent','present'],[0,1],inplace=True)\n",
    "\n",
    "will replace the absent and present lables in the datset with 0 & 1\n",
    " \n"
   ]
  },
  {
   "cell_type": "markdown",
   "id": "948f4197",
   "metadata": {},
   "source": [
    "data.drop('class',axis=1)\n",
    "\n",
    "the data set contains a coloum called \"class\" which contains the labels . that is removed from the input to the x \n"
   ]
  },
  {
   "cell_type": "code",
   "execution_count": 9,
   "id": "2faa8b63",
   "metadata": {},
   "outputs": [],
   "source": [
    "x_train, x_test, y_train, y_test = tts(x, y, test_size=0.2, random_state = 42)\n"
   ]
  },
  {
   "cell_type": "code",
   "execution_count": 10,
   "id": "cc6083ca",
   "metadata": {},
   "outputs": [],
   "source": [
    "model = svc(kernel='linear').fit(x_train,y_train)\n"
   ]
  },
  {
   "cell_type": "markdown",
   "id": "de8223eb",
   "metadata": {},
   "source": [
    "The kernel='linear' argument specifies that the SVM should use a linear kernel. This means that the hyperplane will be a straight line. Linear kernels are often used for classification problems where the data is linearly separable."
   ]
  },
  {
   "cell_type": "code",
   "execution_count": 11,
   "id": "0c6b316d",
   "metadata": {},
   "outputs": [
    {
     "name": "stdout",
     "output_type": "stream",
     "text": [
      "Accuracy of the model:  87.04 %\n"
     ]
    }
   ],
   "source": [
    "print(\"Accuracy of the model: \",round(model.score(x_test,y_test)*100,2),\"%\")"
   ]
  },
  {
   "cell_type": "code",
   "execution_count": null,
   "id": "6a09ae84",
   "metadata": {},
   "outputs": [],
   "source": []
  }
 ],
 "metadata": {
  "kernelspec": {
   "display_name": "Python 3 (ipykernel)",
   "language": "python",
   "name": "python3"
  },
  "language_info": {
   "codemirror_mode": {
    "name": "ipython",
    "version": 3
   },
   "file_extension": ".py",
   "mimetype": "text/x-python",
   "name": "python",
   "nbconvert_exporter": "python",
   "pygments_lexer": "ipython3",
   "version": "3.9.12"
  }
 },
 "nbformat": 4,
 "nbformat_minor": 5
}
