{
  "nbformat": 4,
  "nbformat_minor": 0,
  "metadata": {
    "colab": {
      "provenance": [],
      "collapsed_sections": [
        "i2p46mC4W2AV"
      ],
      "authorship_tag": "ABX9TyPmzSbrVDJD8PPk2Dydroyw",
      "include_colab_link": true
    },
    "kernelspec": {
      "name": "python3",
      "display_name": "Python 3"
    },
    "language_info": {
      "name": "python"
    }
  },
  "cells": [
    {
      "cell_type": "markdown",
      "metadata": {
        "id": "view-in-github",
        "colab_type": "text"
      },
      "source": [
        "<a href=\"https://colab.research.google.com/github/JOWIN-JOSEPH-RAJU/AI-Data_Science-Lab/blob/main/EXP%202/AIDS_LAB_EXP_2.ipynb\" target=\"_parent\"><img src=\"https://colab.research.google.com/assets/colab-badge.svg\" alt=\"Open In Colab\"/></a>"
      ]
    },
    {
      "cell_type": "markdown",
      "source": [
        "# VAIVA QUESTIONS"
      ],
      "metadata": {
        "id": "UjzDCU3pokjF"
      }
    },
    {
      "cell_type": "markdown",
      "source": [
        "#...NUMPY......................................\n",
        "Powerful N-dimensional arrays\n",
        "\n",
        "\n",
        "NumPy is a Python library used for working with arrays.\n",
        "It also has functions for working in domain of linear algebra, fourier transform, and matrices.\n",
        "NumPy was created in 2005 by Travis Oliphant. It is an open source project and you can use it freely.\n",
        "\n",
        "NumPy stands for Numerical Python."
      ],
      "metadata": {
        "id": "c5UKBEfLVU6V"
      }
    },
    {
      "cell_type": "markdown",
      "source": [],
      "metadata": {
        "id": "M99yhvHmVPdr"
      }
    },
    {
      "cell_type": "markdown",
      "source": [
        "# ...................NUMPY ARRAY..........................\n",
        "\n",
        "list are used instear of ararys in  python.list are slow compared to array due to its noncontinioua memory allocation\n",
        "\n",
        "numpy array (np array) solve's this issue"
      ],
      "metadata": {
        "id": "BVb68XkDVN0P"
      }
    },
    {
      "cell_type": "code",
      "source": [
        "import numpy as np\n",
        "b = np.array([1, 2, 3, 4, 5])\n",
        "arr = np.empty([5, 3])       #creating a 2-D array of 5 row aND 3 coloum\n",
        "arr[1,2]=10000               #entering data to a particular cell\n",
        "print(arr[1,2])              #acessing data of a particular cell\n",
        "print(arr)\n"
      ],
      "metadata": {
        "id": "u4B5zOclVfjI"
      },
      "execution_count": null,
      "outputs": []
    },
    {
      "cell_type": "markdown",
      "source": [
        "## .......numpy arange.........................\n",
        "\n",
        "\n",
        "The arange([start,] stop[, step,][, dtype]) : Returns an array with evenly spaced elements as per the interval. The interval mentioned is half-opened i.e. [Start, Stop)\n",
        "\n",
        "start : [optional] start of interval range. By default start = 0\n",
        "stop  : end of interval range\n",
        "step  : [optional] step size of interval. By default step size = 1,  \n",
        "dtype : type of output array"
      ],
      "metadata": {
        "id": "froUMUDNVb2w"
      }
    },
    {
      "cell_type": "code",
      "source": [
        "import numpy as np\n",
        "\n",
        "print(np.arange(10, 50, 2))\n",
        "# 10  = start\n",
        "# 50  = stop\n",
        "#  2  = increment\n",
        "\n",
        "print(np.arange(1, 2, 0.1))\n",
        "# 1  = start\n",
        "# 2  = stop\n",
        "#0.1 = increment\n"
      ],
      "metadata": {
        "id": "kNd8p6P4Vnjb"
      },
      "execution_count": null,
      "outputs": []
    },
    {
      "cell_type": "markdown",
      "source": [
        "# .........Matplotlib......................\n",
        "Matplotlib is a comprehensive library for creating static, animated,\n",
        "and interactive visualizations in Python.\n",
        "Matplotlib makes easy things easy and hard things possible.\n",
        "\n",
        "https://www.google.com/url?sa=i&url=https%3A%2F%2Fwww.askpython.com%2Fpython-modules%2Fmatplotlib%2Fpython-matplotlib&psig=AOvVaw0KB6bAv3P1HNWFRSMli7Eb&ust=1695271583097000&source=images&cd=vfe&opi=89978449&ved=0CBAQjRxqFwoTCLik4_WwuIEDFQAAAAAdAAAAABAJ"
      ],
      "metadata": {
        "id": "RT_87zvFVcK8"
      }
    },
    {
      "cell_type": "code",
      "source": [
        "import matplotlib.pyplot as plt\n",
        "import numpy as np\n",
        "\n",
        "xpoints = np.array([0, 6])\n",
        "ypoints = np.array([0, 250])\n",
        "\n",
        "plt.plot(xpoints, ypoints)\n",
        "plt.show()"
      ],
      "metadata": {
        "id": "pMbD_LnhV2F2"
      },
      "execution_count": null,
      "outputs": []
    },
    {
      "cell_type": "markdown",
      "source": [
        "# matplotlib.pyplot\n",
        "\n",
        "Pyplot is a sub-module of the matplotlib library for Python. It is a library consisting of a collection of functions/methods used for plotting simple 2D graphs using Python. Pyplot can be imported using import matplotlib."
      ],
      "metadata": {
        "id": "ScoMe9YsV0jj"
      }
    },
    {
      "cell_type": "markdown",
      "source": [
        "# Scatter plots\n",
        "Scatter plots are used to plot data points on a horizontal and a vertical axis in the attempt to show how much one variable is affected by another. Each row in the data table is represented by a marker whose position depends on its values in the columns set on the X and Y axes.\n",
        "\n",
        "https://docs.tibco.com/pub/spotfire/6.5.2/doc/html/images/scat_example1.png"
      ],
      "metadata": {
        "id": "KWrbOL1LVPCk"
      }
    },
    {
      "cell_type": "code",
      "source": [
        "from bokeh.plotting import figure ,output_file,show\n",
        "\n",
        "p=figure(title= \"BOKEH LINE GRAPH\")\n",
        "\n",
        "x=[1,2,3,4,5]\n",
        "y=[5,4,3,2,1]\n",
        "\n",
        "p.line(x,y)\n",
        "show(p)"
      ],
      "metadata": {
        "id": "zro6j4F-VGDx"
      },
      "execution_count": null,
      "outputs": []
    },
    {
      "cell_type": "markdown",
      "source": [
        "# PROGRAM FROM SYLLABUS"
      ],
      "metadata": {
        "id": "EwZbozw8oW4L"
      }
    },
    {
      "cell_type": "markdown",
      "source": [
        "# matrix operations"
      ],
      "metadata": {
        "id": "bDWiJfcaWi4U"
      }
    },
    {
      "cell_type": "code",
      "source": [
        "# matrix operations\n",
        "import numpy as np\n",
        "print(\"........matrix 1..............\")\n",
        "row1=int(input(\"Enter the number of Rows :\"))\n",
        "col1=int(input(\"Enter the number of Coloum :\"))\n",
        "mat1=np.empty([row1,col1])\n",
        "print(\"enter the elements of matrix 1\")\n",
        "for i in range (row1):\n",
        "        for j in range (col1):\n",
        "            mat1[i,j]=int(input())\n",
        "print(mat1)\n",
        "\n",
        "#..................................................\n",
        "\n",
        "print(\"........matrix 2..............\")\n",
        "row2=int(input(\"Enter the number of Rows :\"))\n",
        "col2=int(input(\"Enter the number of Coloum :\"))\n",
        "mat2=np.empty([row2,col2])\n",
        "print(\"enter the elements of matrix 2\")\n",
        "for i in range (row2):\n",
        "        for j in range (col2):\n",
        "            mat2[i,j]=int(input())\n",
        "\n",
        "print(mat2)\n",
        "\n",
        "#..................................................\n",
        "ad=np.add(mat1,mat2)\n",
        "sub=np.subtract(mat1,mat2)\n",
        "mul=np.dot(mat1,mat2)\n",
        "trans=np.empty([row1,col1])#creating a matrix to store transpose\n",
        "trans=np.transpose(mat1)\n",
        "print(\"Matrix after addition :\", ad)\n",
        "print(\"Matrix after subtraction :\", sub)\n",
        "print(\"Matrix after multiplication :\" ,mul)\n",
        "print(\"Matrix after transpose :\" ,trans)\n"
      ],
      "metadata": {
        "id": "cjSQZr2QWnlL"
      },
      "execution_count": null,
      "outputs": []
    },
    {
      "cell_type": "markdown",
      "source": [
        "# MATPLOTLIB"
      ],
      "metadata": {
        "id": "yuR8F5mLWsVw"
      }
    },
    {
      "cell_type": "code",
      "source": [
        "import numpy as np\n",
        "import matplotlib.pyplot as plt\n",
        "\n",
        "\n",
        "x=[1,2,3,4,5,6,7,8]\n",
        "y=[ 2,4,6,8,10,12,14,16 ]\n",
        "plt.plot(x,y)\n",
        "plt.xlabel(\"X-axis\")\n",
        "plt.ylabel(\"Y-axis\")\n",
        "plt.show()"
      ],
      "metadata": {
        "id": "AJIsnV1nWxWA"
      },
      "execution_count": null,
      "outputs": []
    },
    {
      "cell_type": "markdown",
      "source": [
        "# bokeh\n",
        "Bokeh is a data visualization library in Python that provides high-performance interactive charts and plots.\n",
        "\n",
        "to import bokeh use : from bokeh.plotting import figure, output_notebook, show\n",
        "\n",
        "initially we need to create a figure using figure function\n",
        "using bokeh we can create\n",
        "1)Scatter Markers : circle(x,y)\n",
        "                     \n",
        "2)Single line     :line(x,y)\n",
        "3)bar             :bar(x,y)\n",
        "\n"
      ],
      "metadata": {
        "id": "i2p46mC4W2AV"
      }
    },
    {
      "cell_type": "code",
      "source": [
        "# Bokeh\n",
        "from bokeh.plotting import show, figure,output_file\n",
        "\n",
        "p=figure(title= \"BOKEH LINE GRAPH\")\n",
        "\n",
        "x=[1,2,3,4,5]\n",
        "y=[5,4,3,2,1]\n",
        "\n",
        "p.line(x,y)\n",
        "show(p)"
      ],
      "metadata": {
        "id": "GgVOid-TW5Sh"
      },
      "execution_count": null,
      "outputs": []
    },
    {
      "cell_type": "markdown",
      "source": [
        "#SEABORN"
      ],
      "metadata": {
        "id": "HKRezNewXAFu"
      }
    },
    {
      "cell_type": "code",
      "source": [
        "import seaborn as sns\n",
        "data = sns.load_dataset(\"iris\")\n",
        "sns.lineplot(x=\"sepal_length\",y=\"sepal_width\",data=data)"
      ],
      "metadata": {
        "colab": {
          "base_uri": "https://localhost:8080/",
          "height": 471
        },
        "id": "2hhW0xClTd2E",
        "outputId": "065ebde9-16e1-4afd-96c8-5d32621d5e66"
      },
      "execution_count": null,
      "outputs": [
        {
          "output_type": "execute_result",
          "data": {
            "text/plain": [
              "<Axes: xlabel='sepal_length', ylabel='sepal_width'>"
            ]
          },
          "metadata": {},
          "execution_count": 2
        },
        {
          "output_type": "display_data",
          "data": {
            "text/plain": [
              "<Figure size 640x480 with 1 Axes>"
            ],
            "image/png": "[encoded data removed]"
          },
          "metadata": {}
        }
      ]
    },
    {
      "cell_type": "code",
      "source": [
        "import pandas as pd\n",
        "data=[1,3,4,5,6,2,9]\n",
        "s=pd.Series(data)\n",
        "index=['a','b','c','d','e','f','g']\n",
        "si=pd.Series(data,index)\n",
        "print(si)"
      ],
      "metadata": {
        "colab": {
          "base_uri": "https://localhost:8080/"
        },
        "id": "q3uMby4FXC_V",
        "outputId": "830f36d2-ddd0-4811-c7bd-05fa8fb8e7d0"
      },
      "execution_count": null,
      "outputs": [
        {
          "output_type": "stream",
          "name": "stdout",
          "text": [
            "a    1\n",
            "b    3\n",
            "c    4\n",
            "d    5\n",
            "e    6\n",
            "f    2\n",
            "g    9\n",
            "dtype: int64\n"
          ]
        }
      ]
    },
    {
      "cell_type": "markdown",
      "source": [],
      "metadata": {
        "id": "SDJ6VJINW_Fb"
      }
    }
  ]
}